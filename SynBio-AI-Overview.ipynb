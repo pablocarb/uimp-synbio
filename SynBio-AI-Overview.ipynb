{
 "cells": [
  {
   "cell_type": "markdown",
   "id": "f4f17f70",
   "metadata": {},
   "source": [
    "# **XI UIMP Summer School on Integrative Synthetic Biology.** \n",
    "*La ingeniería de la biología como tecnología transformadora*\n",
    "\n",
    "## AI & ML-based synbio design applications\n",
    "\n",
    "Outline:\n",
    "\n",
    "* Quantitative data-driven: Predictive models of ribosome binding sites\n",
    "* Qualitate data-driven: Predictive models of promoter libraries\n",
    "* Context-aware hybrid mechanistic: Biosensors\n",
    "* Generative: Enzyme sequence variants\n",
    "\n"
   ]
  },
  {
   "cell_type": "markdown",
   "id": "4ce33d99",
   "metadata": {},
   "source": []
  },
  {
   "cell_type": "code",
   "execution_count": null,
   "id": "c11a5c8e",
   "metadata": {},
   "outputs": [],
   "source": []
  }
 ],
 "metadata": {
  "kernelspec": {
   "display_name": "biosai",
   "language": "python",
   "name": "python3"
  },
  "language_info": {
   "codemirror_mode": {
    "name": "ipython",
    "version": 3
   },
   "file_extension": ".py",
   "mimetype": "text/x-python",
   "name": "python",
   "nbconvert_exporter": "python",
   "pygments_lexer": "ipython3",
   "version": "3.8.5"
  }
 },
 "nbformat": 4,
 "nbformat_minor": 5
}
