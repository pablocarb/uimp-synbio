{
 "cells": [
  {
   "cell_type": "markdown",
   "id": "44b575cb",
   "metadata": {},
   "source": [
    "# Synthetic data generation"
   ]
  },
  {
   "cell_type": "markdown",
   "id": "614584af",
   "metadata": {
    "vscode": {
     "languageId": "powershell"
    }
   },
   "source": [
    "## 1. Limonene production.\n",
    "\n",
    "We will assume that the pathway dynamics is basically following Michaelis-Menten, while the concentration of the enzymes is modulated by the translational gains of the two RBS."
   ]
  },
  {
   "cell_type": "markdown",
   "id": "d7920ca5",
   "metadata": {},
   "source": [
    "We will have first the transcriptional regulation, which will be assumed to be constitutive (always on):\n",
    "\n",
    "$ \\frac{d GPPS_m}{dt} = K_{m1} - K_{dm1} * GGPS_m $\n",
    "\n",
    "$ \\frac{d limS_m}{dt} = K_{m2} - K_{dm2} * limS_m $\n",
    "\n",
    "followed by the translational regulation:\n",
    "\n",
    "$ \\frac{d GPPS}{dt} = K_{R1} * GGPS_m - K_{d1} * GPPS $\n",
    "\n",
    "$ \\frac{d limS}{dt} = K_{R2} * limS_m - K_{d2} * limS $\n",
    "\n",
    "The parameters $K_{R1}$ and $K_{R2}$ are the ones that vary in the RBS library.\n"
   ]
  },
  {
   "cell_type": "markdown",
   "id": "e6023b6a",
   "metadata": {},
   "source": [
    "We write down the ODEs (ordinary differential equations) that calculate the derivatives:"
   ]
  },
  {
   "cell_type": "code",
   "execution_count": null,
   "id": "9b6078c2",
   "metadata": {},
   "outputs": [],
   "source": [
    "def limonene_production_model(rbs1_strength, rbs2_strength, time):\n",
    "    \"\"\"\n",
    "    Simulates the limonene production model based on RBS strengths.\n",
    "    \n",
    "    Parameters:\n",
    "    rbs1_strength (float): Strength of the first RBS.\n",
    "    rbs2_strength (float): Strength of the second RBS.\n",
    "    time (array): Time points for simulation.\n",
    "    \n",
    "    Returns:\n",
    "    array: Limonene production values over time.\n",
    "    \"\"\"\n",
    "    # Placeholder for the actual model implementation\n",
    "    # This should include the ODEs and numerical integration logic\n",
    "\n",
    "    # For demonstration, we will return a simple model output\n",
    "    # This is a mock-up and should be replaced with the actual model logic\n",
    "    import numpy as np\n",
    "            \n",
    "    # Assuming a simple linear relationship for demonstration purposes  \n",
    "    # In practice, this should be replaced with the actual ODE solution\n",
    "    dgppsm = Km1 - Kdm1 * gppsm\n",
    "    dlimsm = Km2 - Kdm2 * limsm\n",
    "    dgpps = Kr1 * gppsm - Kd1 * gpps\n",
    "    dlims = Kr2 * limsm - Kd2 * lims  \n",
    "\n",
    "    dgpp = Kcat[0] * gpps * ipp/(Km[0]+ipp) -  Kd_gpp * gpp\n",
    "    dlim = Kcat[1] * lims * gpp/(Km[1]+gpp) -  Kd_lim * lim\n",
    "    \n",
    "    # Example: Limonene production is proportional to the product of RBS strengths\n",
    "    # and time, simulating a simple growth model\n",
    "    return [rbs1_strength * rbs2_strength * t for t in time]"
   ]
  }
 ],
 "metadata": {
  "kernelspec": {
   "display_name": "biosai",
   "language": "python",
   "name": "python3"
  },
  "language_info": {
   "codemirror_mode": {
    "name": "ipython",
    "version": 3
   },
   "file_extension": ".py",
   "mimetype": "text/x-python",
   "name": "python",
   "nbconvert_exporter": "python",
   "pygments_lexer": "ipython3",
   "version": "3.8.5"
  }
 },
 "nbformat": 4,
 "nbformat_minor": 5
}
