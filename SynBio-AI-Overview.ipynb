{
 "cells": [
  {
   "cell_type": "markdown",
   "id": "f4f17f70",
   "metadata": {},
   "source": [
    "# **XI UIMP Summer School on Integrative Synthetic Biology.** \n",
    "*La ingeniería de la biología como tecnología transformadora*\n",
    "\n",
    "## AI & ML-based synbio design applications\n",
    "\n",
    "Outline:\n",
    "\n",
    "* Quantitative data-driven: Predictive models of ribosome binding sites\n",
    "* Qualitate data-driven: Predictive models of promoter libraries\n",
    "* Context-aware hybrid mechanistic: Biosensors\n",
    "* Generative: Enzyme sequence variants\n",
    "\n"
   ]
  },
  {
   "cell_type": "markdown",
   "id": "33e0096c",
   "metadata": {},
   "source": [
    "## 1. Quantitative data-driven SynBio AI"
   ]
  },
  {
   "cell_type": "markdown",
   "id": "f840cd23",
   "metadata": {},
   "source": [
    "In this first example, we will consider a case where a genetic circuit for bio-based production contains several genes that are regulated by ribosome binding-site (RBS) motifs. We don't have a prior knowledge about the strength of the RBS, but we will assume that they consitently express the genes in the combinatorial library.\n",
    "\n",
    "Our example will be based on the limonene pathway production {ref}, where the target genes will be the last two commited steps in the pathway.\n",
    "\n",
    "For each gene, we have 20 RBS motifs available. This will create a library of $20 \\times 20 = 400$ possible combinations."
   ]
  },
  {
   "cell_type": "markdown",
   "id": "4ce33d99",
   "metadata": {},
   "source": []
  },
  {
   "cell_type": "code",
   "execution_count": null,
   "id": "c11a5c8e",
   "metadata": {},
   "outputs": [],
   "source": []
  }
 ],
 "metadata": {
  "kernelspec": {
   "display_name": "biosai",
   "language": "python",
   "name": "python3"
  },
  "language_info": {
   "codemirror_mode": {
    "name": "ipython",
    "version": 3
   },
   "file_extension": ".py",
   "mimetype": "text/x-python",
   "name": "python",
   "nbconvert_exporter": "python",
   "pygments_lexer": "ipython3",
   "version": "3.8.5"
  }
 },
 "nbformat": 4,
 "nbformat_minor": 5
}
